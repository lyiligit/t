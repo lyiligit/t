{
  "cells": [
    {
      "cell_type": "markdown",
      "metadata": {
        "id": "view-in-github",
        "colab_type": "text"
      },
      "source": [
        "<a href=\"https://colab.research.google.com/github/lyiligit/t/blob/master/mpeg.ipynb\" target=\"_parent\"><img src=\"https://colab.research.google.com/assets/colab-badge.svg\" alt=\"Open In Colab\"/></a>"
      ]
    },
    {
      "cell_type": "code",
      "execution_count": null,
      "metadata": {
        "id": "Jhtsr3pMwzio",
        "colab": {
          "base_uri": "https://localhost:8080/"
        },
        "outputId": "af02d68d-b25a-4842-e78b-2458ad812e59"
      },
      "outputs": [
        {
          "output_type": "stream",
          "name": "stdout",
          "text": [
            "nohup: redirecting stderr to stdout\n"
          ]
        }
      ],
      "source": [
        "!apt update\n",
        "!apt install netcat\n",
        "\n",
        "!wget https://github.com/fatedier/frp/releases/download/v0.38.0/frp_0.38.0_linux_amd64.tar.gz\n",
        "!tar xvf frp_0.38.0_linux_amd64.tar.gz\n",
        "\n",
        "!mv frp_0.38.0_linux_amd64 f\n",
        "!mv f/frpc ./c\n",
        "\n",
        "!nohup ./c -c ./c-colab.i > c.l &\n",
        "!cat m.l\n",
        "!killall ./c\n",
        "!ps aux\n",
        "!top\n",
        "\n",
        "!nc 220.173.208.25 3128 > cut1.mp4\n",
        "\n",
        "!wget http://127.0.0.1:8001/cut1.mp4\n",
        "\n",
        "\n",
        "!cp /content/drive/MyDrive/图片/t/2017-09/IMG_5383.MOV .\n",
        "\n",
        "!nohup ffmpeg -y -threads auto -i IMG_5383.MOV -c:v libx265 -vtag hvc1 -bf 4 -crf 23 -preset slow -qmin 10 -qmax 52 cut1.enc.mp4 > m.l &\n",
        "!7z a -p{Lmkp0987} cut1.7z cut1.enc.mp4\n",
        "\n",
        "\n",
        "%cd t\n",
        "from bs4 import BeautifulSoup\n",
        "import os\n",
        "\n",
        "soup = BeautifulSoup(open('../img.txt'),features='html.parser')#html.parser是解析器，也可是lxml\n",
        "\n",
        "\n",
        "\n",
        "for link in soup.find_all('img'):\n",
        "    os.system(\"wget \"+link.get('src'))\n",
        "\n",
        "\n",
        "!7z a -p{Lmkp0987}  img.7z *\n",
        "\n",
        "!mv img.7z ../drive/MyDrive/img.7z\n",
        "\n",
        "!7z x -p{Lmkp0987} ../drive/MyDrive/img.7z\n",
        "\n",
        "\n",
        "!mkdir frp\n",
        "!7z x -p{Lmkp0987} drive/MyDrive/colabx/s7z.7z \n",
        "!mv ./frp/c ./frp/n ./frp/s drive/MyDrive/colabx/frp\n",
        "\n",
        "!echo \"#!/bin/bash\" >> drive/MyDrive/colabx/frp\n",
        "\n",
        "!cat  drive/MyDrive/colabx/frp/nohup.sh\n",
        "\n",
        "\n",
        "!chmod +x /content/drive/MyDrive/colabx/frp/c\n",
        "!chmod +x /content/drive/MyDrive/colabx/frp/s\n",
        "!nohup /content/drive/MyDrive/colabx/frp/c -c /content/drive/MyDrive/colabx/frp/c-colab-up.i > /tmp/c.log &\n",
        "\n",
        "!nohup python -m http.server 8000 > /tmp/http.log &\n",
        "!python -m http.server 8000\n",
        "\n",
        "\n",
        "\n",
        "!nohup /content/drive/MyDrive/colabx/frp/s -c /content/drive/MyDrive/colabx/frp/s.ini > /tmp/s.log &\n",
        "!nohup /content/drive/MyDrive/colabx/frp/c -c /content/drive/MyDrive/colabx/frp/c-colab-http.i > /tmp/http.log &\n",
        "\n",
        "\n",
        "acgl.twilightparadox.com\n",
        "\n",
        "\n",
        "print(soup.img.contents)\n",
        " for child in soup.img.children:\n",
        "    print(child)\n"
      ]
    }
  ],
  "metadata": {
    "colab": {
      "collapsed_sections": [],
      "name": "mpeg.ipynb",
      "provenance": [],
      "history_visible": true,
      "mount_file_id": "1Vc4ubc91dVjOFhslgyR2xlTFcn0iXiy0",
      "authorship_tag": "ABX9TyN4/dCzmmEWSqktVLTYlbTK",
      "include_colab_link": true
    },
    "kernelspec": {
      "display_name": "Python 3",
      "name": "python3"
    },
    "language_info": {
      "name": "python"
    }
  },
  "nbformat": 4,
  "nbformat_minor": 0
}